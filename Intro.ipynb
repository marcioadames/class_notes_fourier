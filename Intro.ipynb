{
 "cells": [
  {
   "cell_type": "markdown",
   "id": "4fc57a0c-cd9b-4e47-af82-03078917a652",
   "metadata": {},
   "source": [
    "# Introdução\n",
    "Essas são notas de aula sobre Séries de Fourier\n",
    "\n",
    "$\n",
    "f(x) = a_0 +\\sum_{i=1}^\\infty a_n \\mbox{cos}(nx) + b_n\\mbox{sin}(nx)\n",
    "$"
   ]
  }
 ],
 "metadata": {
  "kernelspec": {
   "display_name": "Python 3 (ipykernel)",
   "language": "python",
   "name": "python3"
  },
  "language_info": {
   "codemirror_mode": {
    "name": "ipython",
    "version": 3
   },
   "file_extension": ".py",
   "mimetype": "text/x-python",
   "name": "python",
   "nbconvert_exporter": "python",
   "pygments_lexer": "ipython3",
   "version": "3.12.2"
  }
 },
 "nbformat": 4,
 "nbformat_minor": 5
}
